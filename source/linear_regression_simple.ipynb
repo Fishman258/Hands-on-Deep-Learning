{
 "cells": [
  {
   "cell_type": "code",
   "execution_count": 23,
   "id": "fde3284e-1cda-4be7-9a68-e46e9161b373",
   "metadata": {},
   "outputs": [],
   "source": [
    "import numpy as np\n",
    "import torch\n",
    "from torch.utils import data\n",
    "from d2l import torch as d2l\n",
    "\n",
    "true_w = torch.tensor([2, -3.4])\n",
    "true_b = 4.2\n",
    "features, labels = d2l.synthetic_data(true_w, true_b, 1000)"
   ]
  },
  {
   "cell_type": "code",
   "execution_count": 24,
   "id": "940bc15f-21b6-47dc-aae3-2f7a31088e16",
   "metadata": {},
   "outputs": [
    {
     "data": {
      "text/plain": [
       "[tensor([[-0.0696, -1.5475],\n",
       "         [ 0.2589, -1.7249],\n",
       "         [-0.0163, -1.1103],\n",
       "         [ 0.0399,  0.6147],\n",
       "         [-0.9182,  1.0430],\n",
       "         [ 0.3105, -0.6153],\n",
       "         [-0.3157, -1.5018],\n",
       "         [-0.4759,  0.1784],\n",
       "         [ 0.0654, -0.6767],\n",
       "         [-0.2505,  0.4023]]),\n",
       " tensor([[ 9.3329],\n",
       "         [10.5787],\n",
       "         [ 7.9283],\n",
       "         [ 2.1813],\n",
       "         [-1.1791],\n",
       "         [ 6.9029],\n",
       "         [ 8.6769],\n",
       "         [ 2.6556],\n",
       "         [ 6.6191],\n",
       "         [ 2.3304]])]"
      ]
     },
     "execution_count": 24,
     "metadata": {},
     "output_type": "execute_result"
    }
   ],
   "source": [
    "# 调用框架中现有的API来读取数据\n",
    "def load_array(data_arrays, batch_size, is_train=True):\n",
    "    \"构造一个PyTorch数据迭代器\"\n",
    "    dataset = data.TensorDataset(*data_arrays)\n",
    "    return data.DataLoader(dataset, batch_size, shuffle=is_train)\n",
    "\n",
    "batch_size = 10\n",
    "data_iter = load_array((features, labels), batch_size)\n",
    "\n",
    "next(iter(data_iter))"
   ]
  },
  {
   "cell_type": "code",
   "execution_count": 25,
   "id": "25088161-9b93-4549-bc13-51b861037198",
   "metadata": {},
   "outputs": [],
   "source": [
    "from torch import nn\n",
    "# 构建网络\n",
    "net = nn.Sequential(nn.Linear(2, 1))"
   ]
  },
  {
   "cell_type": "code",
   "execution_count": 31,
   "id": "d2ae2f67-26d7-4347-922f-29b7ffc8d35e",
   "metadata": {},
   "outputs": [
    {
     "data": {
      "text/plain": [
       "tensor([0.])"
      ]
     },
     "execution_count": 31,
     "metadata": {},
     "output_type": "execute_result"
    }
   ],
   "source": [
    "# 初始化模型参数\n",
    "net[0].weight.data.normal_(0, 0.01)\n",
    "net[0].bias.data.fill_(0)"
   ]
  },
  {
   "cell_type": "code",
   "execution_count": 27,
   "id": "fc1a5f1d-1794-4582-ac26-75da238fb4c5",
   "metadata": {},
   "outputs": [],
   "source": [
    "# 损失函数\n",
    "loss = nn.MSELoss()\n",
    "# SGD 优化器\n",
    "trainer = torch.optim.SGD(net.parameters(), lr=0.03)"
   ]
  },
  {
   "cell_type": "code",
   "execution_count": 28,
   "id": "87cb2059-befe-4beb-9745-15c1df515bc1",
   "metadata": {},
   "outputs": [
    {
     "name": "stdout",
     "output_type": "stream",
     "text": [
      "epoch1, loss0.000181\n",
      "epoch2, loss0.000091\n",
      "epoch3, loss0.000091\n"
     ]
    }
   ],
   "source": [
    "# 训练\n",
    "num_epochs = 3\n",
    "for epoch in range(num_epochs):\n",
    "    for X, y in data_iter:\n",
    "        l = loss(net(X), y)\n",
    "        trainer.zero_grad()\n",
    "        l.backward()\n",
    "        trainer.step()\n",
    "    l = loss(net(features), labels)\n",
    "    print(f'epoch{epoch + 1}, loss{l:f}')"
   ]
  },
  {
   "cell_type": "code",
   "execution_count": null,
   "id": "2662156c-9c81-4598-b3c3-709fea4cf466",
   "metadata": {},
   "outputs": [],
   "source": []
  }
 ],
 "metadata": {
  "kernelspec": {
   "display_name": "Python (dlenv39)",
   "language": "python",
   "name": "dlenv39"
  },
  "language_info": {
   "codemirror_mode": {
    "name": "ipython",
    "version": 3
   },
   "file_extension": ".py",
   "mimetype": "text/x-python",
   "name": "python",
   "nbconvert_exporter": "python",
   "pygments_lexer": "ipython3",
   "version": "3.9.5"
  }
 },
 "nbformat": 4,
 "nbformat_minor": 5
}
